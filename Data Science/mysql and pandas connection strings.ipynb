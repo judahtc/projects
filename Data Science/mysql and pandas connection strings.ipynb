{
 "cells": [
  {
   "cell_type": "code",
   "execution_count": 4,
   "metadata": {},
   "outputs": [],
   "source": [
    "import pandas as pd\n",
    "import sqlalchemy as sa\n",
    "import pymysql"
   ]
  },
  {
   "cell_type": "code",
   "execution_count": 25,
   "metadata": {},
   "outputs": [],
   "source": [
    "engine = sa.create_engine('mysql+pymysql://root:@127.0.0.1/cassava_smartech')"
   ]
  },
  {
   "cell_type": "code",
   "execution_count": 26,
   "metadata": {},
   "outputs": [],
   "source": [
    "con=engine.connect()"
   ]
  },
  {
   "cell_type": "code",
   "execution_count": 58,
   "metadata": {},
   "outputs": [],
   "source": [
    "sql='SELECT a.ACCOUNT_ID ,b.USE_CASE ,b.TRANS_VALUE ,b.TRANS_COUNT FROM common_msidsn a,ecocash b WHERE a.ACCOUNT_ID= b.ACCOUNT_ID'\n",
    "\n"
   ]
  },
  {
   "cell_type": "code",
   "execution_count": 59,
   "metadata": {},
   "outputs": [],
   "source": [
    "df=pd.read_sql(sql,con)"
   ]
  },
  {
   "cell_type": "code",
   "execution_count": 60,
   "metadata": {},
   "outputs": [
    {
     "data": {
      "text/html": [
       "<div>\n",
       "<style scoped>\n",
       "    .dataframe tbody tr th:only-of-type {\n",
       "        vertical-align: middle;\n",
       "    }\n",
       "\n",
       "    .dataframe tbody tr th {\n",
       "        vertical-align: top;\n",
       "    }\n",
       "\n",
       "    .dataframe thead th {\n",
       "        text-align: right;\n",
       "    }\n",
       "</style>\n",
       "<table border=\"1\" class=\"dataframe\">\n",
       "  <thead>\n",
       "    <tr style=\"text-align: right;\">\n",
       "      <th></th>\n",
       "      <th>ACCOUNT_ID</th>\n",
       "      <th>USE_CASE</th>\n",
       "      <th>TRANS_VALUE</th>\n",
       "      <th>TRANS_COUNT</th>\n",
       "    </tr>\n",
       "  </thead>\n",
       "  <tbody>\n",
       "    <tr>\n",
       "      <th>0</th>\n",
       "      <td>771004246</td>\n",
       "      <td>Airtime Purchases</td>\n",
       "      <td>296.0</td>\n",
       "      <td>11</td>\n",
       "    </tr>\n",
       "    <tr>\n",
       "      <th>1</th>\n",
       "      <td>771004246</td>\n",
       "      <td>Bank To Wallet</td>\n",
       "      <td>5105.0</td>\n",
       "      <td>7</td>\n",
       "    </tr>\n",
       "    <tr>\n",
       "      <th>2</th>\n",
       "      <td>771004246</td>\n",
       "      <td>Merchant Payments</td>\n",
       "      <td>102.0</td>\n",
       "      <td>2</td>\n",
       "    </tr>\n",
       "    <tr>\n",
       "      <th>3</th>\n",
       "      <td>771004246</td>\n",
       "      <td>Send Money</td>\n",
       "      <td>2385.0</td>\n",
       "      <td>10</td>\n",
       "    </tr>\n",
       "    <tr>\n",
       "      <th>4</th>\n",
       "      <td>771004246</td>\n",
       "      <td>Receive Money</td>\n",
       "      <td>260.0</td>\n",
       "      <td>2</td>\n",
       "    </tr>\n",
       "  </tbody>\n",
       "</table>\n",
       "</div>"
      ],
      "text/plain": [
       "  ACCOUNT_ID           USE_CASE  TRANS_VALUE  TRANS_COUNT\n",
       "0  771004246  Airtime Purchases        296.0           11\n",
       "1  771004246     Bank To Wallet       5105.0            7\n",
       "2  771004246  Merchant Payments        102.0            2\n",
       "3  771004246         Send Money       2385.0           10\n",
       "4  771004246      Receive Money        260.0            2"
      ]
     },
     "execution_count": 60,
     "metadata": {},
     "output_type": "execute_result"
    }
   ],
   "source": [
    "df.head()"
   ]
  },
  {
   "cell_type": "code",
   "execution_count": 29,
   "metadata": {},
   "outputs": [],
   "source": [
    "df1=pd.read_csv('C:\\\\Users\\\\Judah.Chisare\\\\Desktop\\\\Analysis Project\\\\EcoCash_Use_Cases_March_2021.csv')\n",
    "\n",
    "df2=pd.read_excel('C:\\\\Users\\\\Judah.Chisare\\\\Desktop\\\\Analysis Project\\\\Maisha_Health_Customers.xlsx')"
   ]
  },
  {
   "cell_type": "code",
   "execution_count": 61,
   "metadata": {},
   "outputs": [],
   "source": [
    "df.to_csv('common_clients.csv')"
   ]
  },
  {
   "cell_type": "code",
   "execution_count": 62,
   "metadata": {},
   "outputs": [
    {
     "name": "stdout",
     "output_type": "stream",
     "text": [
      "<class 'pandas.core.frame.DataFrame'>\n",
      "RangeIndex: 2939 entries, 0 to 2938\n",
      "Data columns (total 4 columns):\n",
      "ACCOUNT_ID     2939 non-null object\n",
      "USE_CASE       2939 non-null object\n",
      "TRANS_VALUE    2939 non-null float64\n",
      "TRANS_COUNT    2939 non-null int64\n",
      "dtypes: float64(1), int64(1), object(2)\n",
      "memory usage: 91.9+ KB\n"
     ]
    }
   ],
   "source": [
    "df.info()"
   ]
  },
  {
   "cell_type": "code",
   "execution_count": 63,
   "metadata": {},
   "outputs": [
    {
     "data": {
      "text/plain": [
       "Merchant Payments    621\n",
       "Send Money           620\n",
       "Receive Money        546\n",
       "Bank To Wallet       506\n",
       "Airtime Purchases    361\n",
       "Wallet To Bank       115\n",
       "Bill Payments        113\n",
       "Cash In               22\n",
       "Cash Out              21\n",
       "Online Payments       13\n",
       "Card Payments          1\n",
       "Name: USE_CASE, dtype: int64"
      ]
     },
     "execution_count": 63,
     "metadata": {},
     "output_type": "execute_result"
    }
   ],
   "source": [
    "df['USE_CASE'].value_counts()"
   ]
  },
  {
   "cell_type": "code",
   "execution_count": null,
   "metadata": {},
   "outputs": [],
   "source": []
  }
 ],
 "metadata": {
  "kernelspec": {
   "display_name": "Python 3",
   "language": "python",
   "name": "python3"
  },
  "language_info": {
   "codemirror_mode": {
    "name": "ipython",
    "version": 3
   },
   "file_extension": ".py",
   "mimetype": "text/x-python",
   "name": "python",
   "nbconvert_exporter": "python",
   "pygments_lexer": "ipython3",
   "version": "3.6.4"
  }
 },
 "nbformat": 4,
 "nbformat_minor": 2
}
